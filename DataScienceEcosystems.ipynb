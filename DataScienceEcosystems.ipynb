{
 "cells": [
  {
   "cell_type": "markdown",
   "id": "800478aa-9a4a-41bf-be5c-7273ed7ca511",
   "metadata": {},
   "source": [
    "# Data Science Tools and Ecosystem"
   ]
  },
  {
   "cell_type": "markdown",
   "id": "2b5b4cbc-426b-4486-b52d-1a6b6bc0dd83",
   "metadata": {},
   "source": [
    "In this notebook, Data Science Tools and Ecosystems are summarized."
   ]
  },
  {
   "cell_type": "markdown",
   "id": "350edb3e-7c37-4331-ab0f-b698518c236b",
   "metadata": {},
   "source": [
    "__Objectives__\n",
    "* Conceptualize Data Science Tools and Ecosystems applied\n",
    "* List of popular languages used by Data Scientists\n",
    "* List of Data Science libraries in Data Science\n",
    "* List of well known Data Science Tools\n"
   ]
  },
  {
   "cell_type": "markdown",
   "id": "24db8404-563f-498c-87c2-a4ec8e06e22f",
   "metadata": {},
   "source": [
    "Some of the popular languages that Data Scientists use are: \n",
    "1. C++\n",
    "2. R\n",
    "3. SQL\n",
    "4. Python\n",
    "5. Java etc..;"
   ]
  },
  {
   "cell_type": "markdown",
   "id": "5a855a7a-12a9-4583-a86f-f1ee0242ba74",
   "metadata": {},
   "source": [
    "Some of the Data Science Libraries used by Data Scientists are: \n",
    "1. Pandas.\n",
    "2. TensorFlow.\n",
    "3. Keras.\n",
    "4. NumPy.\n",
    "5. SciKit-Learn.\n",
    "6. SciPy.\n",
    "7. Matplotlib.\n",
    "8. PyTorch etc..;"
   ]
  },
  {
   "cell_type": "markdown",
   "id": "0875774e-4a8e-419e-8080-27bbc98ab0a6",
   "metadata": {},
   "source": [
    "|Data Science Tools|\n",
    "|---|\n",
    "|Apache Hadoop|\n",
    "|SAS|\n",
    "|TensorFlow|\n"
   ]
  },
  {
   "cell_type": "markdown",
   "id": "3c765e4a-8f05-4b18-ae31-13fb3442d747",
   "metadata": {},
   "source": [
    "### Below are a few examples of evaluating arithmetic expressions in Python."
   ]
  },
  {
   "cell_type": "code",
   "execution_count": 1,
   "id": "abdfcbab-dbfd-4edf-8a41-e1d57cb6b02b",
   "metadata": {
    "tags": []
   },
   "outputs": [
    {
     "data": {
      "text/plain": [
       "34"
      ]
     },
     "execution_count": 1,
     "metadata": {},
     "output_type": "execute_result"
    }
   ],
   "source": [
    "#this is a common arithmetic example to multiply and then add intergers\n",
    "(12*2)+10"
   ]
  },
  {
   "cell_type": "code",
   "execution_count": 3,
   "id": "e37736aa-71d5-4fdb-97d3-01038d560915",
   "metadata": {
    "tags": []
   },
   "outputs": [
    {
     "data": {
      "text/plain": [
       "1.1166666666666667"
      ]
     },
     "execution_count": 3,
     "metadata": {},
     "output_type": "execute_result"
    }
   ],
   "source": [
    "#this will convert 67 minutes to hours by dividing by 60\n",
    "67/60"
   ]
  },
  {
   "cell_type": "markdown",
   "id": "09d3a7d1-45a5-4a82-8c3e-4603fd37952e",
   "metadata": {},
   "source": [
    "## Author \n",
    "Gourav Kumar"
   ]
  }
 ],
 "metadata": {
  "kernelspec": {
   "display_name": "Python",
   "language": "python",
   "name": "conda-env-python-py"
  },
  "language_info": {
   "codemirror_mode": {
    "name": "ipython",
    "version": 3
   },
   "file_extension": ".py",
   "mimetype": "text/x-python",
   "name": "python",
   "nbconvert_exporter": "python",
   "pygments_lexer": "ipython3",
   "version": "3.7.12"
  }
 },
 "nbformat": 4,
 "nbformat_minor": 5
}
